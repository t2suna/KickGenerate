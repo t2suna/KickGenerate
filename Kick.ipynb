{
  "nbformat": 4,
  "nbformat_minor": 0,
  "metadata": {
    "colab": {
      "provenance": [],
      "authorship_tag": "ABX9TyPbQ7oe1BtJ0SQ4x+eQ2YsJ",
      "include_colab_link": true
    },
    "kernelspec": {
      "name": "python3",
      "display_name": "Python 3"
    },
    "language_info": {
      "name": "python"
    },
    "gpuClass": "standard"
  },
  "cells": [
    {
      "cell_type": "markdown",
      "metadata": {
        "id": "view-in-github",
        "colab_type": "text"
      },
      "source": [
        "<a href=\"https://colab.research.google.com/github/t2suna/KickGenerate/blob/main/Kick.ipynb\" target=\"_parent\"><img src=\"https://colab.research.google.com/assets/colab-badge.svg\" alt=\"Open In Colab\"/></a>"
      ]
    },
    {
      "cell_type": "code",
      "execution_count": null,
      "metadata": {
        "id": "Hu7_OZdhfTWR"
      },
      "outputs": [],
      "source": [
        "import numpy as np\n",
        "import IPython\n",
        "import matplotlib.pyplot as plt\n",
        "\n",
        "def distortion(data,time,amp = 5,level=0.7):\n",
        "    out = []\n",
        "    #freq = 20\n",
        "    #func = np.sin(2.0*np.pi*time*freq) \n",
        "\n",
        "    for d in data:\n",
        "        d *= amp\n",
        "        d = min(d,0.5)\n",
        "        d = max(d,-1.0)\n",
        "        out.append(d)\n",
        "#    for i in range(len(data)):\n",
        "#        data[i] *= func[i]\n",
        "#        data[i] = min(data[i],0.5)\n",
        "#        data[i] = max(data[i],-1.0)\n",
        "#        out.append(data[i])\n",
        "    return np.array(out) * level\n",
        "\n",
        "\n",
        "rate = 48000\n",
        "duration = 1\n",
        "downRate = 0.3\n",
        "freq = 200.\n",
        "lastFreq = 20.\n",
        "\n",
        "distance = int(rate*duration)\n",
        "\n",
        "t = np.linspace(0., duration, distance)\n",
        "down = np.linspace(freq,lastFreq, int(rate*duration*downRate))\n",
        "down = down[:int(len(down)/2)]\n",
        "for i in range(len(t)-len(down)):\n",
        "    down = np.append(down,lastFreq)\n",
        "    \n",
        "\n",
        "vol1 = np.ones( int(rate*duration/2))\n",
        "vol2 = np.linspace(1,0,  distance -  int(rate*duration/2))\n",
        "vol = np.hstack((vol1,vol2))\n",
        "\n",
        "x = np.sin(2.0*np.pi*t*down) * vol\n",
        "x = distortion(x,t)\n",
        "y = np.sin(2.0*np.pi*t*20) \n",
        "plt.plot(t, x);\n",
        "IPython.display.Audio(x, rate=rate, autoplay=True)"
      ]
    }
  ]
}